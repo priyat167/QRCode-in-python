{
  "nbformat": 4,
  "nbformat_minor": 0,
  "metadata": {
    "colab": {
      "name": "QR Code",
      "provenance": [],
      "collapsed_sections": [],
      "authorship_tag": "ABX9TyOrDVR6GNzpVVhWs/YiZ2i9",
      "include_colab_link": true
    },
    "kernelspec": {
      "name": "python3",
      "display_name": "Python 3"
    },
    "language_info": {
      "name": "python"
    }
  },
  "cells": [
    {
      "cell_type": "markdown",
      "metadata": {
        "id": "view-in-github",
        "colab_type": "text"
      },
      "source": [
        "<a href=\"https://colab.research.google.com/github/priyat167/QRCode-in-python/blob/main/QR_Code.ipynb\" target=\"_parent\"><img src=\"https://colab.research.google.com/assets/colab-badge.svg\" alt=\"Open In Colab\"/></a>"
      ]
    },
    {
      "cell_type": "code",
      "execution_count": 1,
      "metadata": {
        "colab": {
          "base_uri": "https://localhost:8080/"
        },
        "id": "_4aLDp9PWFQw",
        "outputId": "56eb36dd-c6e2-4ba8-da28-fb909b7165f3"
      },
      "outputs": [
        {
          "output_type": "stream",
          "name": "stdout",
          "text": [
            "Collecting qrcode\n",
            "  Downloading qrcode-7.3.1.tar.gz (43 kB)\n",
            "\u001b[?25l\r\u001b[K     |███████▌                        | 10 kB 28.5 MB/s eta 0:00:01\r\u001b[K     |███████████████                 | 20 kB 29.7 MB/s eta 0:00:01\r\u001b[K     |██████████████████████▋         | 30 kB 15.2 MB/s eta 0:00:01\r\u001b[K     |██████████████████████████████▏ | 40 kB 11.3 MB/s eta 0:00:01\r\u001b[K     |████████████████████████████████| 43 kB 1.5 MB/s \n",
            "\u001b[?25hBuilding wheels for collected packages: qrcode\n",
            "  Building wheel for qrcode (setup.py) ... \u001b[?25l\u001b[?25hdone\n",
            "  Created wheel for qrcode: filename=qrcode-7.3.1-py3-none-any.whl size=40402 sha256=59a939222567269d70a4daeec34bc84c99f053ad259ac565a2ddabb59d2500d3\n",
            "  Stored in directory: /root/.cache/pip/wheels/93/d7/39/a4111be2cfb8e679938aa671a37888b6afb1f9e7d748e94492\n",
            "Successfully built qrcode\n",
            "Installing collected packages: qrcode\n",
            "Successfully installed qrcode-7.3.1\n"
          ]
        }
      ],
      "source": [
        "pip install qrcode"
      ]
    },
    {
      "cell_type": "code",
      "source": [
        "import qrcode\n",
        "img = qrcode.make('Some data here')\n",
        "type(img)  # qrcode.image.pil.PilImage\n",
        "img.save(\"some_file.png\")"
      ],
      "metadata": {
        "id": "KIER4LobX4qm"
      },
      "execution_count": 2,
      "outputs": []
    },
    {
      "cell_type": "code",
      "source": [
        "import qrcode\n",
        "img = qrcode.make(\"https://youtu.be/fSS_R91Nimw\")\n",
        "img.save(\"youtubeQR.jpg\")"
      ],
      "metadata": {
        "id": "efXc8PmhYEox"
      },
      "execution_count": 3,
      "outputs": []
    },
    {
      "cell_type": "code",
      "source": [
        "import qrcode\n",
        "img = qrcode.make(\"“What did my fingers do before they held him? What did my heart do, with its love? - Sylvia Plath\")\n",
        "img.save(\"youtubeQR.jpg\")"
      ],
      "metadata": {
        "id": "CCXgeTN2Z1pI"
      },
      "execution_count": null,
      "outputs": []
    },
    {
      "cell_type": "code",
      "source": [
        "import qrcode\n",
        "img = qrcode.make(\"India is a country with many religions. I love India.\")\n",
        "img.save(\"youtubeQR.jpg\")"
      ],
      "metadata": {
        "id": "QJXLS3YkWY-S"
      },
      "execution_count": 4,
      "outputs": []
    },
    {
      "cell_type": "code",
      "source": [
        "pip install opencv-python"
      ],
      "metadata": {
        "colab": {
          "base_uri": "https://localhost:8080/"
        },
        "id": "PWHSiaDWUyYc",
        "outputId": "2c205df9-c144-47cb-fd2c-c543f4203003"
      },
      "execution_count": 5,
      "outputs": [
        {
          "output_type": "stream",
          "name": "stdout",
          "text": [
            "Requirement already satisfied: opencv-python in /usr/local/lib/python3.7/dist-packages (4.1.2.30)\n",
            "Requirement already satisfied: numpy>=1.14.5 in /usr/local/lib/python3.7/dist-packages (from opencv-python) (1.21.5)\n"
          ]
        }
      ]
    },
    {
      "cell_type": "code",
      "source": [
        "import cv2\n",
        "d = cv2.QRCodeDetector()\n",
        "val, _, _ = d.detectAndDecode(cv2.imread(\"youtubeQR.jpg\"))\n",
        "print(\"Decoded text is: \", val)"
      ],
      "metadata": {
        "id": "SBvocItHU7GH",
        "outputId": "6505cf5d-f381-4c50-bef4-6488c40a7e51",
        "colab": {
          "base_uri": "https://localhost:8080/"
        }
      },
      "execution_count": 7,
      "outputs": [
        {
          "output_type": "stream",
          "name": "stdout",
          "text": [
            "Decoded text is:  India is a country with many religions. I love India.\n"
          ]
        }
      ]
    }
  ]
}